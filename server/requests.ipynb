{
 "cells": [
  {
   "cell_type": "code",
   "execution_count": 1,
   "metadata": {},
   "outputs": [
    {
     "name": "stdout",
     "output_type": "stream",
     "text": [
      "curl: (7) Failed to connect to localhost port 8789: Connection refused\r\n"
     ]
    }
   ],
   "source": [
    "!curl localhost:8789"
   ]
  },
  {
   "cell_type": "code",
   "execution_count": 24,
   "metadata": {
    "scrolled": true
   },
   "outputs": [
    {
     "name": "stdout",
     "output_type": "stream",
     "text": [
      "<table border=\"1\" class=\"dataframe\">\r\n",
      "  <thead>\r\n",
      "    <tr style=\"text-align: right;\">\r\n",
      "      <th>NAME</th>\r\n",
      "      <th>SCORE</th>\r\n",
      "    </tr>\r\n",
      "  </thead>\r\n",
      "  <tbody>\r\n",
      "    <tr>\r\n",
      "      <td>Sima</td>\r\n",
      "      <td>1.000000e+09</td>\r\n",
      "    </tr>\r\n",
      "    <tr>\r\n",
      "      <td>Sima</td>\r\n",
      "      <td>1.000000e+08</td>\r\n",
      "    </tr>\r\n",
      "    <tr>\r\n",
      "      <td>Pipa</td>\r\n",
      "      <td>1.005000e+06</td>\r\n",
      "    </tr>\r\n",
      "    <tr>\r\n",
      "      <td>Happy Year</td>\r\n",
      "      <td>8.100000e+01</td>\r\n",
      "    </tr>\r\n",
      "    <tr>\r\n",
      "      <td>Testing Vasya</td>\r\n",
      "      <td>6.400000e+01</td>\r\n",
      "    </tr>\r\n",
      "    <tr>\r\n",
      "      <td>Testing Vasya</td>\r\n",
      "      <td>3.200000e+01</td>\r\n",
      "    </tr>\r\n",
      "    <tr>\r\n",
      "      <td>Happy Year</td>\r\n",
      "      <td>2.700000e+01</td>\r\n",
      "    </tr>\r\n",
      "    <tr>\r\n",
      "      <td>Testing Vasya</td>\r\n",
      "      <td>1.600000e+01</td>\r\n",
      "    </tr>\r\n",
      "    <tr>\r\n",
      "      <td>Happy Year</td>\r\n",
      "      <td>9.000000e+00</td>\r\n",
      "    </tr>\r\n",
      "    <tr>\r\n",
      "      <td>Testing Vasya</td>\r\n",
      "      <td>8.000000e+00</td>\r\n",
      "    </tr>\r\n",
      "    <tr>\r\n",
      "      <td>Testing Vasya</td>\r\n",
      "      <td>4.000000e+00</td>\r\n",
      "    </tr>\r\n",
      "    <tr>\r\n",
      "      <td>Happy Year</td>\r\n",
      "      <td>3.000000e+00</td>\r\n",
      "    </tr>\r\n",
      "    <tr>\r\n",
      "      <td>Testing Vasya</td>\r\n",
      "      <td>2.000000e+00</td>\r\n",
      "    </tr>\r\n",
      "    <tr>\r\n",
      "      <td>Testing Vasya</td>\r\n",
      "      <td>1.000000e+00</td>\r\n",
      "    </tr>\r\n",
      "    <tr>\r\n",
      "      <td>Happy Year</td>\r\n",
      "      <td>1.000000e+00</td>\r\n",
      "    </tr>\r\n",
      "  </tbody>\r\n",
      "</table>"
     ]
    }
   ],
   "source": [
    "!curl \"localhost:8789/rating?limit=1000\"\n",
    "    "
   ]
  },
  {
   "cell_type": "code",
   "execution_count": 20,
   "metadata": {},
   "outputs": [
    {
     "name": "stdout",
     "output_type": "stream",
     "text": [
      "{\"new\": true, \"success\": true, \"user_id\": 5}"
     ]
    }
   ],
   "source": [
    "!curl \"localhost:8789/add_user?name=Sima\""
   ]
  },
  {
   "cell_type": "code",
   "execution_count": 23,
   "metadata": {},
   "outputs": [
    {
     "name": "stdout",
     "output_type": "stream",
     "text": [
      "{\"success\": false, \"play_id\": null}"
     ]
    }
   ],
   "source": [
    "!curl \"localhost:8789/add_play?user_id=5&score=1000000001&version=1\""
   ]
  },
  {
   "cell_type": "code",
   "execution_count": null,
   "metadata": {},
   "outputs": [],
   "source": []
  },
  {
   "cell_type": "code",
   "execution_count": null,
   "metadata": {},
   "outputs": [],
   "source": []
  }
 ],
 "metadata": {
  "kernelspec": {
   "display_name": "Python 3",
   "language": "python",
   "name": "python3"
  },
  "language_info": {
   "codemirror_mode": {
    "name": "ipython",
    "version": 3
   },
   "file_extension": ".py",
   "mimetype": "text/x-python",
   "name": "python",
   "nbconvert_exporter": "python",
   "pygments_lexer": "ipython3",
   "version": "3.6.7"
  }
 },
 "nbformat": 4,
 "nbformat_minor": 2
}
