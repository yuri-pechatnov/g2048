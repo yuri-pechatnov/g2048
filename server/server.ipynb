{
 "cells": [
  {
   "cell_type": "code",
   "execution_count": 1,
   "metadata": {},
   "outputs": [],
   "source": [
    "import MySQLdb\n",
    "import pandas as pd\n",
    "import db2048\n",
    "import traceback\n",
    "import json"
   ]
  },
  {
   "cell_type": "code",
   "execution_count": 2,
   "metadata": {},
   "outputs": [],
   "source": [
    "db = MySQLdb.connect(\"localhost\", \"u2048\", \"u2048passord\", init_command=\"use testDB\")"
   ]
  },
  {
   "cell_type": "code",
   "execution_count": null,
   "metadata": {},
   "outputs": [],
   "source": []
  },
  {
   "cell_type": "code",
   "execution_count": 3,
   "metadata": {},
   "outputs": [],
   "source": [
    "#!sudo pip3 install flask\n",
    "\n"
   ]
  },
  {
   "cell_type": "code",
   "execution_count": 4,
   "metadata": {},
   "outputs": [],
   "source": [
    "def transform_rating(df):\n",
    "    n = len(df)\n",
    "    data = df.to_dict()\n",
    "    rating = []\n",
    "    for i in range(n):\n",
    "        rating.append({\n",
    "            \"place\": i + 1,\n",
    "            \"name\": data[\"NAME\"][i],\n",
    "            \"score\": data[\"SCORE\"][i]\n",
    "        })\n",
    "    return rating"
   ]
  },
  {
   "cell_type": "code",
   "execution_count": null,
   "metadata": {},
   "outputs": [
    {
     "name": "stdout",
     "output_type": "stream",
     "text": [
      " * Serving Flask app \"__main__\" (lazy loading)\n",
      " * Environment: production\n",
      "   WARNING: Do not use the development server in a production environment.\n",
      "   Use a production WSGI server instead.\n",
      " * Debug mode: off\n"
     ]
    },
    {
     "name": "stderr",
     "output_type": "stream",
     "text": [
      " * Running on http://0.0.0.0:8890/ (Press CTRL+C to quit)\n",
      "109.252.84.243 - - [14/Jan/2019 20:01:13] \"GET /rating?json=true&limit=100 HTTP/1.1\" 200 -\n",
      "109.252.84.243 - - [14/Jan/2019 20:01:23] \"GET /rating?json=true&limit=100 HTTP/1.1\" 200 -\n",
      "109.252.84.243 - - [14/Jan/2019 20:04:58] \"GET /rating?json=true&limit=100 HTTP/1.1\" 200 -\n",
      "109.252.84.243 - - [14/Jan/2019 20:05:02] \"GET /add_user?name=Yuri HTTP/1.1\" 200 -\n",
      "109.252.84.243 - - [14/Jan/2019 20:05:02] \"GET /get_current_version?user_id=12 HTTP/1.1\" 200 -\n",
      "109.252.84.243 - - [14/Jan/2019 20:05:02] \"GET /add_play?user_id=12&version=1&score=354 HTTP/1.1\" 200 -\n",
      "109.252.84.243 - - [14/Jan/2019 20:05:02] \"GET /rating?json=true&limit=100 HTTP/1.1\" 200 -\n",
      "109.252.84.243 - - [14/Jan/2019 20:05:18] \"GET /add_user?name=Yuri HTTP/1.1\" 200 -\n",
      "109.252.84.243 - - [14/Jan/2019 20:05:18] \"GET /get_current_version?user_id=12 HTTP/1.1\" 200 -\n",
      "109.252.84.243 - - [14/Jan/2019 20:05:18] \"GET /add_play?user_id=12&version=2&score=354 HTTP/1.1\" 200 -\n",
      "109.252.84.243 - - [14/Jan/2019 20:05:18] \"GET /rating?json=true&limit=100 HTTP/1.1\" 200 -\n",
      "109.252.84.243 - - [14/Jan/2019 20:11:14] \"GET /rating HTTP/1.1\" 200 -\n",
      "109.252.84.243 - - [14/Jan/2019 20:11:22] \"GET /rating?limit=100 HTTP/1.1\" 200 -\n",
      "109.252.84.243 - - [14/Jan/2019 20:13:11] \"GET /add_user?name=Sima HTTP/1.1\" 200 -\n",
      "109.252.84.243 - - [14/Jan/2019 20:13:44] \"GET /get_version?user_id=6 HTTP/1.1\" 404 -\n",
      "109.252.84.243 - - [14/Jan/2019 20:13:57] \"GET /get_current_version?user_id=6 HTTP/1.1\" 200 -\n",
      "109.252.84.243 - - [14/Jan/2019 20:14:07] \"GET /add_user?name=SimaV HTTP/1.1\" 200 -\n",
      "109.252.84.243 - - [14/Jan/2019 20:14:11] \"GET /get_current_version?user_id=13 HTTP/1.1\" 200 -\n",
      "109.252.84.243 - - [14/Jan/2019 20:14:31] \"GET /add_play?user_id=13 HTTP/1.1\" 400 -\n",
      "109.252.84.243 - - [14/Jan/2019 20:15:43] \"GET /add_play?user_id=13 HTTP/1.1\" 400 -\n",
      "109.252.84.243 - - [14/Jan/2019 20:16:06] \"GET /add_play?user_id=13&version=0&score=100501 HTTP/1.1\" 200 -\n",
      "109.252.84.243 - - [14/Jan/2019 20:16:18] \"GET /rating?limit=100 HTTP/1.1\" 200 -\n",
      "109.252.84.243 - - [14/Jan/2019 20:16:39] \"GET /rating?json=true&limit=100 HTTP/1.1\" 200 -\n",
      "109.252.84.243 - - [14/Jan/2019 20:17:10] \"GET /add_user?name=YuriP HTTP/1.1\" 200 -\n",
      "109.252.84.243 - - [14/Jan/2019 20:17:10] \"GET /get_current_version?user_id=14 HTTP/1.1\" 200 -\n",
      "109.252.84.243 - - [14/Jan/2019 20:17:10] \"GET /add_play?user_id=14&version=0&score=0 HTTP/1.1\" 200 -\n",
      "109.252.84.243 - - [14/Jan/2019 20:17:11] \"GET /rating?json=true&limit=100 HTTP/1.1\" 200 -\n"
     ]
    }
   ],
   "source": [
    "import flask\n",
    "\n",
    "app = flask.Flask(__name__)\n",
    "\n",
    "@app.route('/rating')\n",
    "def rating():\n",
    "    limit = int(flask.request.args.get('limit', 5))\n",
    "    if bool(flask.request.args.get('json', \"\")):\n",
    "        return json.dumps(transform_rating(db2048.get_rating(db, limit=limit)))\n",
    "    else:\n",
    "        return db2048.get_rating(db, limit=limit).to_html(index=False)\n",
    "\n",
    "@app.route('/add_user')\n",
    "def add_user():\n",
    "    try:\n",
    "        user_name = str(flask.request.args['name'])\n",
    "    except Exception:\n",
    "        return traceback.format_exc(), 400\n",
    "    try:\n",
    "        user_id, new = db2048.add_user(db, name=user_name)\n",
    "        return json.dumps({\"success\": True, \"user_id\": user_id, \"new\": new}), 200\n",
    "    except Exception:\n",
    "        return traceback.format_exc(), 500\n",
    "    \n",
    "@app.route('/get_current_version')\n",
    "def get_current_version():\n",
    "    try:\n",
    "        user_id = int(flask.request.args['user_id'])\n",
    "    except Exception:\n",
    "        return traceback.format_exc(), 400\n",
    "    try:\n",
    "        version = db2048.get_current_version(db, user_id=user_id)\n",
    "        return json.dumps({\"success\": True, \"version\": version}), 200\n",
    "    except Exception:\n",
    "        return traceback.format_exc(), 500\n",
    "    \n",
    "@app.route('/add_play')\n",
    "def add_play():\n",
    "    try:\n",
    "        user_id = int(flask.request.args['user_id'])\n",
    "        score = float(flask.request.args['score'])\n",
    "        version = int(flask.request.args['version'])\n",
    "    except Exception:\n",
    "        return traceback.format_exc(), 400\n",
    "    try:\n",
    "        play_id, success = db2048.add_play(db, user_id=user_id, score=score, version=version)\n",
    "        return json.dumps({\"success\": success, \"play_id\": play_id}), 200\n",
    "    except Exception:\n",
    "        return traceback.format_exc(), 500\n",
    "\n",
    "\n",
    "@app.route('/')\n",
    "def index():\n",
    "    return(\"Hello World!\")\n",
    "\n",
    "\n",
    "app.run(port=8890, host=\"0.0.0.0\")"
   ]
  },
  {
   "cell_type": "code",
   "execution_count": null,
   "metadata": {},
   "outputs": [],
   "source": [
    "import flask\n"
   ]
  },
  {
   "cell_type": "code",
   "execution_count": 10,
   "metadata": {},
   "outputs": [
    {
     "name": "stdout",
     "output_type": "stream",
     "text": [
      "Help on method run in module flask.app:\n",
      "\n",
      "run(host=None, port=None, debug=None, load_dotenv=True, **options) method of flask.app.Flask instance\n",
      "    Runs the application on a local development server.\n",
      "    \n",
      "    Do not use ``run()`` in a production setting. It is not intended to\n",
      "    meet security and performance requirements for a production server.\n",
      "    Instead, see :ref:`deployment` for WSGI server recommendations.\n",
      "    \n",
      "    If the :attr:`debug` flag is set the server will automatically reload\n",
      "    for code changes and show a debugger in case an exception happened.\n",
      "    \n",
      "    If you want to run the application in debug mode, but disable the\n",
      "    code execution on the interactive debugger, you can pass\n",
      "    ``use_evalex=False`` as parameter.  This will keep the debugger's\n",
      "    traceback screen active, but disable code execution.\n",
      "    \n",
      "    It is not recommended to use this function for development with\n",
      "    automatic reloading as this is badly supported.  Instead you should\n",
      "    be using the :command:`flask` command line script's ``run`` support.\n",
      "    \n",
      "    .. admonition:: Keep in Mind\n",
      "    \n",
      "       Flask will suppress any server error with a generic error page\n",
      "       unless it is in debug mode.  As such to enable just the\n",
      "       interactive debugger without the code reloading, you have to\n",
      "       invoke :meth:`run` with ``debug=True`` and ``use_reloader=False``.\n",
      "       Setting ``use_debugger`` to ``True`` without being in debug mode\n",
      "       won't catch any exceptions because there won't be any to\n",
      "       catch.\n",
      "    \n",
      "    :param host: the hostname to listen on. Set this to ``'0.0.0.0'`` to\n",
      "        have the server available externally as well. Defaults to\n",
      "        ``'127.0.0.1'`` or the host in the ``SERVER_NAME`` config variable\n",
      "        if present.\n",
      "    :param port: the port of the webserver. Defaults to ``5000`` or the\n",
      "        port defined in the ``SERVER_NAME`` config variable if present.\n",
      "    :param debug: if given, enable or disable debug mode. See\n",
      "        :attr:`debug`.\n",
      "    :param load_dotenv: Load the nearest :file:`.env` and :file:`.flaskenv`\n",
      "        files to set environment variables. Will also change the working\n",
      "        directory to the directory containing the first file found.\n",
      "    :param options: the options to be forwarded to the underlying Werkzeug\n",
      "        server. See :func:`werkzeug.serving.run_simple` for more\n",
      "        information.\n",
      "    \n",
      "    .. versionchanged:: 1.0\n",
      "        If installed, python-dotenv will be used to load environment\n",
      "        variables from :file:`.env` and :file:`.flaskenv` files.\n",
      "    \n",
      "        If set, the :envvar:`FLASK_ENV` and :envvar:`FLASK_DEBUG`\n",
      "        environment variables will override :attr:`env` and\n",
      "        :attr:`debug`.\n",
      "    \n",
      "        Threaded mode is enabled by default.\n",
      "    \n",
      "    .. versionchanged:: 0.10\n",
      "        The default port is now picked from the ``SERVER_NAME``\n",
      "        variable.\n",
      "\n"
     ]
    }
   ],
   "source": [
    "help(app.run)\n"
   ]
  },
  {
   "cell_type": "code",
   "execution_count": 5,
   "metadata": {},
   "outputs": [
    {
     "data": {
      "text/plain": [
       "[{'place': 1, 'name': 'Happy Year', 'score': 81.0},\n",
       " {'place': 2, 'name': 'Testing Vasya', 'score': 64.0},\n",
       " {'place': 3, 'name': 'Testing Vasya', 'score': 32.0},\n",
       " {'place': 4, 'name': 'Happy Year', 'score': 27.0},\n",
       " {'place': 5, 'name': 'Testing Vasya', 'score': 16.0}]"
      ]
     },
     "execution_count": 5,
     "metadata": {},
     "output_type": "execute_result"
    }
   ],
   "source": [
    "\n",
    "        \n",
    "\n"
   ]
  },
  {
   "cell_type": "code",
   "execution_count": 4,
   "metadata": {},
   "outputs": [
    {
     "data": {
      "text/plain": [
       "5"
      ]
     },
     "execution_count": 4,
     "metadata": {},
     "output_type": "execute_result"
    }
   ],
   "source": [
    "len(db2048.get_rating(db, limit=5))"
   ]
  },
  {
   "cell_type": "code",
   "execution_count": null,
   "metadata": {},
   "outputs": [],
   "source": []
  },
  {
   "cell_type": "code",
   "execution_count": null,
   "metadata": {},
   "outputs": [],
   "source": []
  },
  {
   "cell_type": "code",
   "execution_count": null,
   "metadata": {},
   "outputs": [],
   "source": [
    "!jupyter nbconvert server.ipynb --help\n"
   ]
  },
  {
   "cell_type": "code",
   "execution_count": null,
   "metadata": {},
   "outputs": [],
   "source": [
    "!ls"
   ]
  },
  {
   "cell_type": "code",
   "execution_count": null,
   "metadata": {},
   "outputs": [],
   "source": []
  }
 ],
 "metadata": {
  "kernelspec": {
   "display_name": "Python 3",
   "language": "python",
   "name": "python3"
  },
  "language_info": {
   "codemirror_mode": {
    "name": "ipython",
    "version": 3
   },
   "file_extension": ".py",
   "mimetype": "text/x-python",
   "name": "python",
   "nbconvert_exporter": "python",
   "pygments_lexer": "ipython3",
   "version": "3.6.7"
  }
 },
 "nbformat": 4,
 "nbformat_minor": 2
}
