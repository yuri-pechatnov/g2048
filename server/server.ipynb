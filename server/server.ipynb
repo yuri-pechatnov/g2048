{
 "cells": [
  {
   "cell_type": "code",
   "execution_count": 1,
   "metadata": {},
   "outputs": [],
   "source": [
    "import MySQLdb\n",
    "import pandas as pd\n",
    "import db2048\n",
    "import traceback\n",
    "import json"
   ]
  },
  {
   "cell_type": "code",
   "execution_count": null,
   "metadata": {},
   "outputs": [],
   "source": [
    "db = MySQLdb.connect(\"localhost\", \"u2048\", \"u2048\", init_command=\"use testDB\")"
   ]
  },
  {
   "cell_type": "code",
   "execution_count": null,
   "metadata": {},
   "outputs": [],
   "source": []
  },
  {
   "cell_type": "code",
   "execution_count": null,
   "metadata": {},
   "outputs": [],
   "source": []
  },
  {
   "cell_type": "code",
   "execution_count": null,
   "metadata": {},
   "outputs": [
    {
     "name": "stdout",
     "output_type": "stream",
     "text": [
      " * Serving Flask app \"__main__\" (lazy loading)\n",
      " * Environment: production\n",
      "   WARNING: Do not use the development server in a production environment.\n",
      "   Use a production WSGI server instead.\n",
      " * Debug mode: off\n"
     ]
    },
    {
     "name": "stderr",
     "output_type": "stream",
     "text": [
      " * Running on http://127.0.0.1:8789/ (Press CTRL+C to quit)\n",
      "127.0.0.1 - - [30/Nov/2018 00:06:50] \"GET /add_user?name=Pipa HTTP/1.1\" 200 -\n",
      "127.0.0.1 - - [30/Nov/2018 00:07:18] \"GET /add_play?user_id=4&score=1005001&version=0 HTTP/1.1\" 200 -\n",
      "127.0.0.1 - - [30/Nov/2018 00:07:27] \"GET /rating?limit=1000 HTTP/1.1\" 200 -\n",
      "127.0.0.1 - - [30/Nov/2018 00:07:42] \"GET /add_user?name=Sima HTTP/1.1\" 200 -\n",
      "127.0.0.1 - - [30/Nov/2018 00:08:06] \"GET /add_play?user_id=5&score=100000001&version=0 HTTP/1.1\" 200 -\n",
      "127.0.0.1 - - [30/Nov/2018 00:08:11] \"GET /add_play?user_id=5&score=1000000001&version=1 HTTP/1.1\" 200 -\n",
      "127.0.0.1 - - [30/Nov/2018 00:08:13] \"GET /add_play?user_id=5&score=1000000001&version=1 HTTP/1.1\" 200 -\n",
      "127.0.0.1 - - [30/Nov/2018 00:08:18] \"GET /rating?limit=1000 HTTP/1.1\" 200 -\n"
     ]
    }
   ],
   "source": [
    "import flask\n",
    "\n",
    "app = flask.Flask(__name__)\n",
    "\n",
    "@app.route('/rating')\n",
    "def rating():\n",
    "    limit = int(flask.request.args.get('limit', 5))\n",
    "    return db2048.get_rating(db, limit=limit).to_html(index=False)\n",
    "\n",
    "@app.route('/add_user')\n",
    "def add_user():\n",
    "    try:\n",
    "        user_name = str(flask.request.args['name'])\n",
    "    except Exception:\n",
    "        return traceback.format_exc(), 400\n",
    "    try:\n",
    "        user_id, new = db2048.add_user(db, name=user_name)\n",
    "        return json.dumps({\"success\": True, \"user_id\": user_id, \"new\": new}), 200\n",
    "    except Exception:\n",
    "        return traceback.format_exc(), 500\n",
    "    \n",
    "@app.route('/get_current_version')\n",
    "def get_current_version():\n",
    "    try:\n",
    "        user_id = int(flask.request.args['user_id'])\n",
    "    except Exception:\n",
    "        return traceback.format_exc(), 400\n",
    "    try:\n",
    "        version = db2048.get_current_version(db, user_id=user_id)\n",
    "        return json.dumps({\"success\": True, \"version\": version}), 200\n",
    "    except Exception:\n",
    "        return traceback.format_exc(), 500\n",
    "    \n",
    "@app.route('/add_play')\n",
    "def add_play():\n",
    "    try:\n",
    "        user_id = int(flask.request.args['user_id'])\n",
    "        score = float(flask.request.args['score'])\n",
    "        version = int(flask.request.args['version'])\n",
    "    except Exception:\n",
    "        return traceback.format_exc(), 400\n",
    "    try:\n",
    "        play_id, success = db2048.add_play(db, user_id=user_id, score=score, version=version)\n",
    "        return json.dumps({\"success\": success, \"play_id\": play_id}), 200\n",
    "    except Exception:\n",
    "        return traceback.format_exc(), 500\n",
    "\n",
    "\n",
    "@app.route('/')\n",
    "def index():\n",
    "    return(\"Hello World!\")\n",
    "\n",
    "\n",
    "app.run(port=8789)"
   ]
  },
  {
   "cell_type": "code",
   "execution_count": null,
   "metadata": {},
   "outputs": [],
   "source": [
    "import flask\n"
   ]
  },
  {
   "cell_type": "code",
   "execution_count": null,
   "metadata": {},
   "outputs": [],
   "source": []
  }
 ],
 "metadata": {
  "kernelspec": {
   "display_name": "Python 3",
   "language": "python",
   "name": "python3"
  },
  "language_info": {
   "codemirror_mode": {
    "name": "ipython",
    "version": 3
   },
   "file_extension": ".py",
   "mimetype": "text/x-python",
   "name": "python",
   "nbconvert_exporter": "python",
   "pygments_lexer": "ipython3",
   "version": "3.5.2"
  }
 },
 "nbformat": 4,
 "nbformat_minor": 2
}
