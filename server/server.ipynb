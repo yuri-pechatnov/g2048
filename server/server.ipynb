{
 "cells": [
  {
   "cell_type": "code",
   "execution_count": null,
   "metadata": {},
   "outputs": [],
   "source": [
    "import MySQLdb\n",
    "import pandas as pd\n",
    "import db2048\n",
    "import traceback\n",
    "import json\n",
    "import logging"
   ]
  },
  {
   "cell_type": "code",
   "execution_count": 13,
   "metadata": {},
   "outputs": [],
   "source": [
    "db = MySQLdb.connect(\"localhost\", \"u2048\", \"u2048passord\", init_command=\"use testDB\")"
   ]
  },
  {
   "cell_type": "code",
   "execution_count": 14,
   "metadata": {},
   "outputs": [],
   "source": [
    "db.encoding = \"utf-8\"\n"
   ]
  },
  {
   "cell_type": "code",
   "execution_count": 15,
   "metadata": {},
   "outputs": [],
   "source": [
    "#!sudo pip3 install flask\n",
    "\n"
   ]
  },
  {
   "cell_type": "code",
   "execution_count": 16,
   "metadata": {},
   "outputs": [],
   "source": [
    "def transform_rating(df):\n",
    "    n = len(df)\n",
    "    data = df.to_dict()\n",
    "    rating = []\n",
    "    for i in range(n):\n",
    "        rating.append({\n",
    "            \"place\": i + 1,\n",
    "            \"name\": data[\"NAME\"][i],\n",
    "            \"score\": data[\"SCORE\"][i]\n",
    "        })\n",
    "    return rating"
   ]
  },
  {
   "cell_type": "code",
   "execution_count": null,
   "metadata": {},
   "outputs": [],
   "source": [
    "import flask\n",
    "\n",
    "app = flask.Flask(__name__)\n",
    "\n",
    "@app.route('/rating')\n",
    "def rating():\n",
    "    limit = int(flask.request.args.get('limit', 5))\n",
    "    if bool(flask.request.args.get('json', \"\")):\n",
    "        return json.dumps(transform_rating(db2048.get_rating(db, limit=limit)))\n",
    "    else:\n",
    "        return db2048.get_rating(db, limit=limit).to_html(index=False)\n",
    "\n",
    "@app.route('/add_user')\n",
    "def add_user():\n",
    "    user_name = \"no name :(\"\n",
    "    escaped_name = \"no name :(\"\n",
    "    try:\n",
    "        user_name = str(flask.request.args['name'])\n",
    "    except Exception:\n",
    "        return traceback.format_exc(), 400\n",
    "    try:\n",
    "        escaped_name = db.escape_string(user_name)\n",
    "        user_id, new = db2048.add_user(db, name=escaped_name)\n",
    "        return json.dumps({\"success\": True, \"user_id\": user_id, \"new\": new}), 200\n",
    "    except Exception:\n",
    "        logging.exception(\"Can't add user {}, {}: \".format(repr(user_name), repr(escaped_name)))\n",
    "        return traceback.format_exc(), 500\n",
    "    \n",
    "@app.route('/get_current_version')\n",
    "def get_current_version():\n",
    "    try:\n",
    "        user_id = int(flask.request.args['user_id'])\n",
    "    except Exception:\n",
    "        return traceback.format_exc(), 400\n",
    "    try:\n",
    "        version = db2048.get_current_version(db, user_id=user_id)\n",
    "        return json.dumps({\"success\": True, \"version\": version}), 200\n",
    "    except Exception:\n",
    "        return traceback.format_exc(), 500\n",
    "    \n",
    "@app.route('/add_play')\n",
    "def add_play():\n",
    "    try:\n",
    "        user_id = int(flask.request.args['user_id'])\n",
    "        score = float(flask.request.args['score'])\n",
    "        version = int(flask.request.args['version'])\n",
    "    except Exception:\n",
    "        return traceback.format_exc(), 400\n",
    "    try:\n",
    "        play_id, success = db2048.add_play(db, user_id=user_id, score=score, version=version)\n",
    "        return json.dumps({\"success\": success, \"play_id\": play_id}), 200\n",
    "    except Exception:\n",
    "        return traceback.format_exc(), 500\n",
    "\n",
    "\n",
    "@app.route('/')\n",
    "def index():\n",
    "    return(\"Hello World!\")\n",
    "\n",
    "\n",
    "app.run(port=8890, host=\"0.0.0.0\")"
   ]
  },
  {
   "cell_type": "code",
   "execution_count": null,
   "metadata": {},
   "outputs": [],
   "source": [
    "import flask\n"
   ]
  },
  {
   "cell_type": "code",
   "execution_count": null,
   "metadata": {},
   "outputs": [],
   "source": [
    "help(app.run)\n"
   ]
  },
  {
   "cell_type": "code",
   "execution_count": 5,
   "metadata": {},
   "outputs": [
    {
     "data": {
      "text/plain": [
       "[{'place': 1, 'name': 'Happy Year', 'score': 81.0},\n",
       " {'place': 2, 'name': 'Testing Vasya', 'score': 64.0},\n",
       " {'place': 3, 'name': 'Testing Vasya', 'score': 32.0},\n",
       " {'place': 4, 'name': 'Happy Year', 'score': 27.0},\n",
       " {'place': 5, 'name': 'Testing Vasya', 'score': 16.0}]"
      ]
     },
     "execution_count": 5,
     "metadata": {},
     "output_type": "execute_result"
    }
   ],
   "source": [
    "\n",
    "        \n",
    "\n"
   ]
  },
  {
   "cell_type": "code",
   "execution_count": 4,
   "metadata": {},
   "outputs": [
    {
     "data": {
      "text/plain": [
       "5"
      ]
     },
     "execution_count": 4,
     "metadata": {},
     "output_type": "execute_result"
    }
   ],
   "source": [
    "len(db2048.get_rating(db, limit=5))"
   ]
  },
  {
   "cell_type": "code",
   "execution_count": null,
   "metadata": {},
   "outputs": [],
   "source": []
  },
  {
   "cell_type": "code",
   "execution_count": null,
   "metadata": {},
   "outputs": [],
   "source": []
  },
  {
   "cell_type": "code",
   "execution_count": null,
   "metadata": {},
   "outputs": [],
   "source": [
    "!jupyter nbconvert server.ipynb --help\n"
   ]
  },
  {
   "cell_type": "code",
   "execution_count": null,
   "metadata": {},
   "outputs": [],
   "source": [
    "!ls"
   ]
  },
  {
   "cell_type": "code",
   "execution_count": null,
   "metadata": {},
   "outputs": [],
   "source": []
  }
 ],
 "metadata": {
  "kernelspec": {
   "display_name": "Python 3",
   "language": "python",
   "name": "python3"
  },
  "language_info": {
   "codemirror_mode": {
    "name": "ipython",
    "version": 3
   },
   "file_extension": ".py",
   "mimetype": "text/x-python",
   "name": "python",
   "nbconvert_exporter": "python",
   "pygments_lexer": "ipython3",
   "version": "3.6.7"
  }
 },
 "nbformat": 4,
 "nbformat_minor": 2
}
